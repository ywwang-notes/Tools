{
 "cells": [
  {
   "cell_type": "code",
   "execution_count": null,
   "metadata": {},
   "outputs": [],
   "source": [
    "import anndata\n",
    "import scipy\n",
    "import random\n",
    "import os"
   ]
  },
  {
   "cell_type": "code",
   "execution_count": null,
   "metadata": {},
   "outputs": [],
   "source": [
    "inputpath = '/mnt/d/Data/ABC_atlas/' # revise the input path here\n",
    "target = 'WMB-10Xv3-HY-raw' # the name of the region to convert\n",
    "outputpath = target + '/' # output files will be saved in this folder under working directory"
   ]
  },
  {
   "cell_type": "code",
   "execution_count": null,
   "metadata": {},
   "outputs": [],
   "source": [
    "dat = anndata.read_h5ad(inputpath + target + '.h5ad')"
   ]
  },
  {
   "cell_type": "code",
   "execution_count": null,
   "metadata": {},
   "outputs": [],
   "source": [
    "for sample in dat.obs.library_label.cat.categories:\n",
    "    newpath = outputpath + sample + '/'\n",
    "    if not os.path.exists(newpath):\n",
    "        os.makedirs(newpath)\n",
    "        print(newpath)\n",
    "    scipy.io.mmwrite(newpath + 'matrix.mtx', dat.X[dat.obs.library_label == sample,:].T, field = 'integer')\n",
    "    print(sample)\n",
    "    with open(newpath + 'genes.tsv', 'w') as f:\n",
    "        for gene in dat.var.gene_symbol:\n",
    "            f.write(f\"{gene}\\n\")\n",
    "    with open(newpath + 'barcodes.tsv', 'w') as f:\n",
    "        for cell in dat.obs_names[dat.obs.library_label == sample]:\n",
    "            f.write(f\"{cell}\\n\")"
   ]
  }
 ],
 "metadata": {
  "language_info": {
   "name": "python"
  },
  "orig_nbformat": 4
 },
 "nbformat": 4,
 "nbformat_minor": 2
}
